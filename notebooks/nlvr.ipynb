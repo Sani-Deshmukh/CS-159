{
 "cells": [
  {
   "cell_type": "code",
   "execution_count": 1,
   "metadata": {},
   "outputs": [],
   "source": [
    "import os\n",
    "import sys\n",
    "module_path = os.path.abspath(os.path.join('..'))\n",
    "if module_path not in sys.path:\n",
    "    sys.path.append(module_path)"
   ]
  },
  {
   "cell_type": "code",
   "execution_count": 2,
   "metadata": {},
   "outputs": [
    {
     "name": "stdout",
     "output_type": "stream",
     "text": [
      "env: OPENAI_API_KEY=<Enter you key here>\n"
     ]
    }
   ],
   "source": [
    "%env OPENAI_API_KEY=<Enter you key here>"
   ]
  },
  {
   "cell_type": "code",
   "execution_count": 3,
   "metadata": {},
   "outputs": [],
   "source": [
    "from PIL import Image\n",
    "from IPython.core.display import HTML\n",
    "from functools import partial\n",
    "\n",
    "from engine.utils import ProgramGenerator, ProgramInterpreter\n",
    "from prompts.nlvr import create_prompt"
   ]
  },
  {
   "cell_type": "code",
   "execution_count": 4,
   "metadata": {},
   "outputs": [
    {
     "name": "stdout",
     "output_type": "stream",
     "text": [
      "Registering VQA step\n",
      "Registering EVAL step\n",
      "Registering RESULT step\n"
     ]
    }
   ],
   "source": [
    "interpreter = ProgramInterpreter(dataset='nlvr')"
   ]
  },
  {
   "cell_type": "code",
   "execution_count": 5,
   "metadata": {},
   "outputs": [],
   "source": [
    "prompter = partial(create_prompt,method='all')\n",
    "generator = ProgramGenerator(prompter=prompter)"
   ]
  },
  {
   "cell_type": "code",
   "execution_count": 6,
   "metadata": {},
   "outputs": [],
   "source": [
    "left_image = Image.open('../assets/camel1.png')\n",
    "left_image.thumbnail((640,640),Image.Resampling.LANCZOS)\n",
    "right_image = Image.open('../assets/camel2.png')\n",
    "right_image.thumbnail((640,640),Image.Resampling.LANCZOS)\n",
    "init_state = dict(\n",
    "    LEFT=left_image.convert('RGB'),\n",
    "    RIGHT=right_image.convert('RGB'),\n",
    ")"
   ]
  },
  {
   "cell_type": "code",
   "execution_count": 7,
   "metadata": {},
   "outputs": [
    {
     "name": "stdout",
     "output_type": "stream",
     "text": [
      "ANSWER0=VQA(image=LEFT,question='Is there a woman in black in the image?')\n",
      "ANSWER1=VQA(image=RIGHT,question='Is there a woman in black in the image?')\n",
      "ANSWER2=VQA(image=LEFT,question='How many camels are in the image?')\n",
      "ANSWER3=VQA(image=RIGHT,question='How many camels are in the image?')\n",
      "ANSWER4=EVAL(expr='{ANSWER0} xor {ANSWER1}')\n",
      "ANSWER5=EVAL(expr='{ANSWER2} + {ANSWER3} == 2')\n",
      "ANSWER6=EVAL(expr='{ANSWER4} and {ANSWER5}')\n",
      "FINAL_ANSWER=RESULT(var=ANSWER6)\n"
     ]
    }
   ],
   "source": [
    "statement = \"There is a woman in black in exactly one of the images and two camels in total.\"\n",
    "# statement = \"There are more camels than people.\"\n",
    "# statement = \"The camel is sitting in both images.\"\n",
    "# statement = \"There are no trees in the images.\"\n",
    "prog,_ = generator.generate(dict(statement=statement))\n",
    "print(prog)"
   ]
  },
  {
   "cell_type": "code",
   "execution_count": 8,
   "metadata": {},
   "outputs": [
    {
     "name": "stdout",
     "output_type": "stream",
     "text": [
      "VQA\n"
     ]
    },
    {
     "name": "stderr",
     "output_type": "stream",
     "text": [
      "/Users/sanideshmukh/miniforge3/envs/visprog/lib/python3.10/site-packages/transformers/generation/utils.py:1288: UserWarning: Using `max_length`'s default (20) to control the generation length. This behaviour is deprecated and will be removed from the config in v5 of Transformers -- we recommend using `max_new_tokens` to control the maximum length of the generation.\n",
      "  warnings.warn(\n"
     ]
    },
    {
     "name": "stdout",
     "output_type": "stream",
     "text": [
      "VQA\n",
      "VQA\n",
      "VQA\n",
      "EVAL\n",
      "EVAL\n"
     ]
    },
    {
     "ename": "TypeError",
     "evalue": "can only concatenate str (not \"int\") to str",
     "output_type": "error",
     "traceback": [
      "\u001b[0;31m---------------------------------------------------------------------------\u001b[0m",
      "\u001b[0;31mTypeError\u001b[0m                                 Traceback (most recent call last)",
      "Cell \u001b[0;32mIn[8], line 1\u001b[0m\n\u001b[0;32m----> 1\u001b[0m result, prog_state, html_str \u001b[38;5;241m=\u001b[39m \u001b[43minterpreter\u001b[49m\u001b[38;5;241;43m.\u001b[39;49m\u001b[43mexecute\u001b[49m\u001b[43m(\u001b[49m\u001b[43mprog\u001b[49m\u001b[43m,\u001b[49m\u001b[43minit_state\u001b[49m\u001b[43m,\u001b[49m\u001b[43minspect\u001b[49m\u001b[38;5;241;43m=\u001b[39;49m\u001b[38;5;28;43;01mTrue\u001b[39;49;00m\u001b[43m)\u001b[49m\n",
      "File \u001b[0;32m~/Desktop/159/visprog_new/engine/utils.py:40\u001b[0m, in \u001b[0;36mProgramInterpreter.execute\u001b[0;34m(self, prog, init_state, inspect)\u001b[0m\n\u001b[1;32m     38\u001b[0m \u001b[38;5;28;01mfor\u001b[39;00m prog_step \u001b[38;5;129;01min\u001b[39;00m prog_steps:\n\u001b[1;32m     39\u001b[0m     \u001b[38;5;28;01mif\u001b[39;00m inspect:\n\u001b[0;32m---> 40\u001b[0m         step_output, step_html \u001b[38;5;241m=\u001b[39m \u001b[38;5;28;43mself\u001b[39;49m\u001b[38;5;241;43m.\u001b[39;49m\u001b[43mexecute_step\u001b[49m\u001b[43m(\u001b[49m\u001b[43mprog_step\u001b[49m\u001b[43m,\u001b[49m\u001b[43minspect\u001b[49m\u001b[43m)\u001b[49m\n\u001b[1;32m     41\u001b[0m         html_str \u001b[38;5;241m+\u001b[39m\u001b[38;5;241m=\u001b[39m step_html \u001b[38;5;241m+\u001b[39m \u001b[38;5;124m'\u001b[39m\u001b[38;5;124m<hr>\u001b[39m\u001b[38;5;124m'\u001b[39m\n\u001b[1;32m     42\u001b[0m     \u001b[38;5;28;01melse\u001b[39;00m:\n",
      "File \u001b[0;32m~/Desktop/159/visprog_new/engine/utils.py:26\u001b[0m, in \u001b[0;36mProgramInterpreter.execute_step\u001b[0;34m(self, prog_step, inspect)\u001b[0m\n\u001b[1;32m     24\u001b[0m step_name \u001b[38;5;241m=\u001b[39m parse_step(prog_step\u001b[38;5;241m.\u001b[39mprog_str,partial\u001b[38;5;241m=\u001b[39m\u001b[38;5;28;01mTrue\u001b[39;00m)[\u001b[38;5;124m'\u001b[39m\u001b[38;5;124mstep_name\u001b[39m\u001b[38;5;124m'\u001b[39m]\n\u001b[1;32m     25\u001b[0m \u001b[38;5;28mprint\u001b[39m(step_name)\n\u001b[0;32m---> 26\u001b[0m \u001b[38;5;28;01mreturn\u001b[39;00m \u001b[38;5;28;43mself\u001b[39;49m\u001b[38;5;241;43m.\u001b[39;49m\u001b[43mstep_interpreters\u001b[49m\u001b[43m[\u001b[49m\u001b[43mstep_name\u001b[49m\u001b[43m]\u001b[49m\u001b[38;5;241;43m.\u001b[39;49m\u001b[43mexecute\u001b[49m\u001b[43m(\u001b[49m\u001b[43mprog_step\u001b[49m\u001b[43m,\u001b[49m\u001b[43minspect\u001b[49m\u001b[43m)\u001b[49m\n",
      "File \u001b[0;32m~/Desktop/159/visprog_new/engine/step_interpreters.py:103\u001b[0m, in \u001b[0;36mEvalInterpreter.execute\u001b[0;34m(self, prog_step, inspect)\u001b[0m\n\u001b[1;32m    100\u001b[0m     step_input \u001b[38;5;241m=\u001b[39m step_input\u001b[38;5;241m.\u001b[39mreplace(\u001b[38;5;124m'\u001b[39m\u001b[38;5;124mxor\u001b[39m\u001b[38;5;124m'\u001b[39m,\u001b[38;5;124m'\u001b[39m\u001b[38;5;124m!=\u001b[39m\u001b[38;5;124m'\u001b[39m)\n\u001b[1;32m    102\u001b[0m step_input \u001b[38;5;241m=\u001b[39m step_input\u001b[38;5;241m.\u001b[39mformat(\u001b[38;5;241m*\u001b[39m\u001b[38;5;241m*\u001b[39mprog_state)\n\u001b[0;32m--> 103\u001b[0m step_output \u001b[38;5;241m=\u001b[39m \u001b[38;5;28;43meval\u001b[39;49m\u001b[43m(\u001b[49m\u001b[43mstep_input\u001b[49m\u001b[43m)\u001b[49m\n\u001b[1;32m    104\u001b[0m prog_step\u001b[38;5;241m.\u001b[39mstate[output_var] \u001b[38;5;241m=\u001b[39m step_output\n\u001b[1;32m    105\u001b[0m \u001b[38;5;28;01mif\u001b[39;00m inspect:\n",
      "File \u001b[0;32m<string>:1\u001b[0m\n",
      "\u001b[0;31mTypeError\u001b[0m: can only concatenate str (not \"int\") to str"
     ]
    }
   ],
   "source": [
    "result, prog_state, html_str = interpreter.execute(prog,init_state,inspect=True)"
   ]
  },
  {
   "cell_type": "code",
   "execution_count": null,
   "metadata": {},
   "outputs": [],
   "source": [
    "result"
   ]
  },
  {
   "cell_type": "code",
   "execution_count": null,
   "metadata": {},
   "outputs": [],
   "source": [
    "HTML(html_str)"
   ]
  }
 ],
 "metadata": {
  "kernelspec": {
   "display_name": "visprog",
   "language": "python",
   "name": "visprog"
  },
  "language_info": {
   "codemirror_mode": {
    "name": "ipython",
    "version": 3
   },
   "file_extension": ".py",
   "mimetype": "text/x-python",
   "name": "python",
   "nbconvert_exporter": "python",
   "pygments_lexer": "ipython3",
   "version": "3.10.17"
  }
 },
 "nbformat": 4,
 "nbformat_minor": 4
}
